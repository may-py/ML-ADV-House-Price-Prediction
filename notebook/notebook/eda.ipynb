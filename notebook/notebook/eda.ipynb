{
 "cells": [
  {
   "cell_type": "code",
   "execution_count": 15,
   "metadata": {},
   "outputs": [],
   "source": [
    "import os\n",
    "import pandas as pd\n",
    "from src.logger import logging\n",
    "import pandas as pd\n",
    "from dataclasses import dataclass\n",
    "from sklearn.model_selection import train_test_split\n",
    "from src.components.data_transformaion import DataTransformation\n",
    "from scipy import sparse\n",
    "\n",
    "from src.logger import logging\n",
    "import pandas as pd\n",
    "import numpy as np\n",
    "from dataclasses import dataclass\n",
    "\n",
    "from sklearn.pipeline import Pipeline\n",
    "from sklearn.compose import ColumnTransformer\n",
    "from sklearn.preprocessing import StandardScaler, OneHotEncoder\n",
    "from sklearn.impute import SimpleImputer\n",
    "\n",
    "from catboost import CatBoostRegressor\n",
    "from sklearn.ensemble import (\n",
    "    AdaBoostRegressor,\n",
    "    GradientBoostingRegressor,\n",
    "    RandomForestRegressor,\n",
    ")\n",
    "from sklearn.linear_model import LinearRegression\n",
    "from sklearn.metrics import r2_score\n",
    "from sklearn.neighbors import KNeighborsRegressor\n",
    "from sklearn.tree import DecisionTreeRegressor\n",
    "from xgboost import XGBRegressor\n"
   ]
  },
  {
   "cell_type": "code",
   "execution_count": 16,
   "metadata": {},
   "outputs": [],
   "source": [
    "df = pd.read_csv('../data/train.csv')"
   ]
  },
  {
   "cell_type": "code",
   "execution_count": 17,
   "metadata": {},
   "outputs": [],
   "source": [
    "train_set, test_set = train_test_split(df,test_size=0.2,random_state=42)"
   ]
  },
  {
   "cell_type": "code",
   "execution_count": 31,
   "metadata": {},
   "outputs": [],
   "source": [
    "num_columns = ['Id', 'MSSubClass', 'LotFrontage', 'LotArea', 'OverallQual',\n",
    "'OverallCond', 'YearBuilt', 'YearRemodAdd', 'MasVnrArea', 'BsmtFinSF1',\n",
    "'BsmtFinSF2', 'BsmtUnfSF', 'TotalBsmtSF', '1stFlrSF', '2ndFlrSF',\n",
    "'LowQualFinSF', 'GrLivArea', 'BsmtFullBath', 'BsmtHalfBath', 'FullBath',\n",
    "'HalfBath', 'BedroomAbvGr', 'KitchenAbvGr', 'TotRmsAbvGrd',\n",
    "'Fireplaces', 'GarageYrBlt', 'GarageCars', 'GarageArea', 'WoodDeckSF',\n",
    "'OpenPorchSF', 'EnclosedPorch', '3SsnPorch', 'ScreenPorch', 'PoolArea',\n",
    "'MiscVal', 'MoSold', 'YrSold']\n",
    "cat_columns = ['MSZoning', 'Street', 'Alley', 'LotShape', 'LandContour', 'Utilities',\n",
    "'LotConfig', 'LandSlope', 'Neighborhood', 'Condition1', 'Condition2',\n",
    "'BldgType', 'HouseStyle', 'RoofStyle', 'RoofMatl', 'Exterior1st',\n",
    "'Exterior2nd', 'MasVnrType', 'ExterQual', 'ExterCond', 'Foundation',\n",
    "'BsmtQual', 'BsmtCond', 'BsmtExposure', 'BsmtFinType1', 'BsmtFinType2',\n",
    "'Heating', 'HeatingQC', 'CentralAir', 'Electrical', 'KitchenQual',\n",
    "'Functional', 'FireplaceQu', 'GarageType', 'GarageFinish', 'GarageQual',\n",
    "'GarageCond', 'PavedDrive', 'PoolQC', 'Fence', 'MiscFeature',\n",
    "'SaleType', 'SaleCondition']\n",
    "\n",
    "num_pipeline = Pipeline(\n",
    "    steps=[\n",
    "        (\"imputer\",SimpleImputer(strategy=\"median\")),\n",
    "        ('scaler', StandardScaler()),\n",
    "    ]\n",
    ")\n",
    "cat_pipeline = Pipeline(\n",
    "    steps=[\n",
    "        (\"imputer\", SimpleImputer(strategy=\"most_frequent\")),\n",
    "        (\"onehot\", OneHotEncoder(handle_unknown=\"ignore\")),\n",
    "        ('scaler', StandardScaler(with_mean=False)),\n",
    "    ]\n",
    ")\n",
    "\n",
    "preprocessor = ColumnTransformer(\n",
    "    [\n",
    "        (\"num_pipepine\", num_pipeline, num_columns),\n",
    "        (\"cat_pipeline\", cat_pipeline, cat_columns),\n",
    "])\n"
   ]
  },
  {
   "cell_type": "code",
   "execution_count": 32,
   "metadata": {},
   "outputs": [
    {
     "name": "stdout",
     "output_type": "stream",
     "text": [
      "(1168, 286) (1168,) - (292, 286) (292,)\n",
      "<class 'scipy.sparse._csr.csr_matrix'> <class 'scipy.sparse._csr.csr_matrix'>\n"
     ]
    }
   ],
   "source": [
    "target_column = 'SalePrice'\n",
    "\n",
    "input_feature_train_df=train_set.drop(columns=[target_column],axis=1)\n",
    "target_feature_train_df=train_set[target_column]\n",
    "\n",
    "input_feature_test_df=test_set.drop(columns=[target_column],axis=1)\n",
    "target_feature_test_df=test_set[target_column]\n",
    "\n",
    "logging.info(\n",
    "    f\"Applying preprocessing object on training dataframe and testing dataframe.\"\n",
    ")\n",
    "\n",
    "input_feature_train_arr=preprocessor.fit_transform(input_feature_train_df)\n",
    "input_feature_test_arr=preprocessor.transform(input_feature_test_df)\n",
    "\n",
    "\n",
    "\n",
    "print(input_feature_train_arr.shape, np.array(target_feature_train_df).shape ,\"-\", input_feature_test_arr.shape, np.array(target_feature_test_df).shape)\n",
    "print(type(input_feature_train_arr),type(input_feature_test_arr))\n"
   ]
  },
  {
   "cell_type": "code",
   "execution_count": 34,
   "metadata": {},
   "outputs": [
    {
     "name": "stdout",
     "output_type": "stream",
     "text": [
      "<class 'numpy.ndarray'> (1168, 286) <class 'numpy.ndarray'> (1168,)\n"
     ]
    },
    {
     "data": {
      "text/plain": [
       "numpy.ndarray"
      ]
     },
     "execution_count": 34,
     "metadata": {},
     "output_type": "execute_result"
    }
   ],
   "source": [
    "# train_arr = np.c_[\n",
    "#                 input_feature_train_arr, np.array(target_feature_train_df).astype(float)\n",
    "#             ]\n",
    "# input_feature_train_arr\n",
    "a = input_feature_train_arr.toarray()\n",
    "b = np.array(target_feature_train_df)\n",
    "print(type(a),a.shape,type(b),b.shape)\n",
    "# b = sparse.hstack(b)\n",
    "# print(type(a),a.shape,type(b),b.shape)\n",
    "# np.concatenate((a,np.concatenate(b)[:,None]),axis=1)\n",
    "# np.concatenate((a,b[:,None]),axis=1)\n",
    "# np.column_stack((a,b))\n",
    "train_arr = np.c_[\n",
    "                a,b\n",
    "            ]\n",
    "# train_arr\n",
    "train_array = train_arr\n",
    "type(train_array)\n",
    "\n",
    "# a"
   ]
  },
  {
   "cell_type": "code",
   "execution_count": 35,
   "metadata": {},
   "outputs": [
    {
     "data": {
      "text/plain": [
       "array([[ 3.81232378e-01, -8.66764305e-01, -1.24683632e-02, ...,\n",
       "         2.63383911e+00,  0.00000000e+00,  1.54500000e+05],\n",
       "       [ 8.82188480e-01,  7.41099591e-02,  1.23452047e+00, ...,\n",
       "         2.63383911e+00,  0.00000000e+00,  3.25000000e+05],\n",
       "       [-7.45330875e-01, -6.31545739e-01, -6.35962781e-01, ...,\n",
       "         2.63383911e+00,  0.00000000e+00,  1.15000000e+05],\n",
       "       ...,\n",
       "       [ 1.69560786e-01,  7.41099591e-02, -3.24215572e-01, ...,\n",
       "         2.63383911e+00,  0.00000000e+00,  1.89000000e+05],\n",
       "       [-1.85577108e-01,  3.09328525e-01, -4.57821519e-01, ...,\n",
       "         2.63383911e+00,  0.00000000e+00,  1.08000000e+05],\n",
       "       [-1.85917410e-02, -8.66764305e-01, -1.24683632e-02, ...,\n",
       "         2.63383911e+00,  0.00000000e+00,  1.24500000e+05]])"
      ]
     },
     "execution_count": 35,
     "metadata": {},
     "output_type": "execute_result"
    }
   ],
   "source": [
    "test_arr = np.c_[input_feature_test_arr.toarray(), np.array(target_feature_test_df)]\n",
    "test_array = test_arr\n",
    "test_array"
   ]
  },
  {
   "cell_type": "code",
   "execution_count": 36,
   "metadata": {},
   "outputs": [],
   "source": [
    "def evaluate_model(X_train,y_train,X_test,y_test,models):\n",
    "    try:\n",
    "        report = {}\n",
    "        for i in range(len(models)):\n",
    "            model = list(models.values())[i]\n",
    "            # para=param[list(models.keys())[i]]\n",
    "\n",
    "            # gs = GridSearchCV(model,para)\n",
    "            # gs.fit(X_train,y_train)\n",
    "            # model.set_params(**gs.best_params_)\n",
    "            model.fit(X_train,y_train)\n",
    "\n",
    "            y_train_pred = model.predict(X_train)\n",
    "\n",
    "            y_test_pred = model.predict(X_test)\n",
    "\n",
    "            train_model_score = r2_score(y_train, y_train_pred)\n",
    "\n",
    "            test_model_score = r2_score(y_test, y_test_pred)\n",
    "\n",
    "            report[list(models.keys())[i]] = test_model_score\n",
    "\n",
    "        return report\n",
    "    except Exception as e:\n",
    "         raise e"
   ]
  },
  {
   "cell_type": "code",
   "execution_count": 38,
   "metadata": {},
   "outputs": [
    {
     "name": "stdout",
     "output_type": "stream",
     "text": [
      "0.9063522938950872 GradientBoostingRegressor()\n"
     ]
    }
   ],
   "source": [
    "try:\n",
    "    X_train,y_train,X_test,y_test=(\n",
    "    train_array[:,:-1],\n",
    "    train_array[:,-1],\n",
    "    test_array[:,:-1],\n",
    "    test_array[:,-1]\n",
    "    )\n",
    "\n",
    "    models = {\n",
    "    \"Random Forest\": RandomForestRegressor(),\n",
    "    \"Decision Tree\": DecisionTreeRegressor(),\n",
    "    \"Gradient Boosting\": GradientBoostingRegressor(),\n",
    "    \"Linear Regression\": LinearRegression(),\n",
    "    \"XGBRegressor\": XGBRegressor(),\n",
    "    \"CatBoosting Regressor\": CatBoostRegressor(verbose=False),\n",
    "    \"AdaBoost Regressor\": AdaBoostRegressor(),\n",
    "    }\n",
    "\n",
    "    params={\n",
    "    \"Decision Tree\": {\n",
    "        'criterion':['squared_error', 'friedman_mse', 'absolute_error', 'poisson'],\n",
    "        # 'splitter':['best','random'],\n",
    "        # 'max_features':['sqrt','log2'],\n",
    "    },\n",
    "    \"Random Forest\":{\n",
    "        # 'criterion':['squared_error', 'friedman_mse', 'absolute_error', 'poisson'],\n",
    "        \n",
    "        # 'max_features':['sqrt','log2',None],\n",
    "        'n_estimators': [8,16,32,64,128,256]\n",
    "    },\n",
    "    \"Gradient Boosting\":{\n",
    "        # 'loss':['squared_error', 'huber', 'absolute_error', 'quantile'],\n",
    "        'learning_rate':[.1,.01,.05,.001],\n",
    "        'subsample':[0.6,0.7,0.75,0.8,0.85,0.9],\n",
    "        # 'criterion':['squared_error', 'friedman_mse'],\n",
    "        # 'max_features':['auto','sqrt','log2'],\n",
    "        'n_estimators': [8,16,32,64,128,256]\n",
    "    },\n",
    "    \"Linear Regression\":{},\n",
    "    \"XGBRegressor\":{\n",
    "        'learning_rate':[.1,.01,.05,.001],\n",
    "        'n_estimators': [8,16,32,64,128,256]\n",
    "    },\n",
    "    \"CatBoosting Regressor\":{\n",
    "        'depth': [6,8,10],\n",
    "        'learning_rate': [0.01, 0.05, 0.1],\n",
    "        'iterations': [30, 50, 100]\n",
    "    },\n",
    "    \"AdaBoost Regressor\":{\n",
    "        'learning_rate':[.1,.01,0.5,.001],\n",
    "        # 'loss':['linear','square','exponential'],\n",
    "        'n_estimators': [8,16,32,64,128,256]\n",
    "    }\n",
    "\n",
    "    }\n",
    "\n",
    "    model_report:dict=evaluate_model(X_train=X_train,y_train=y_train,X_test=X_test,y_test=y_test,\n",
    "                                    models=models)#,param=params\n",
    "\n",
    "    best_model_score = max(sorted(model_report.values()))\n",
    "\n",
    "    ## To get best model name from dict\n",
    "\n",
    "    best_model_name = list(model_report.keys())[\n",
    "    list(model_report.values()).index(best_model_score)\n",
    "    ]\n",
    "    best_model = models[best_model_name]   \n",
    "\n",
    "\n",
    "    if best_model_score<0.6:\n",
    "        print('Best model not found')\n",
    "\n",
    "\n",
    "    predicted=best_model.predict(X_test)\n",
    "\n",
    "    r2_square = r2_score(y_test, predicted)\n",
    "    print(r2_square, best_model)\n",
    "\n",
    "except Exception as e:\n",
    "    raise e\n",
    "    "
   ]
  },
  {
   "cell_type": "code",
   "execution_count": null,
   "metadata": {},
   "outputs": [],
   "source": []
  }
 ],
 "metadata": {
  "kernelspec": {
   "display_name": "env",
   "language": "python",
   "name": "python3"
  },
  "language_info": {
   "codemirror_mode": {
    "name": "ipython",
    "version": 3
   },
   "file_extension": ".py",
   "mimetype": "text/x-python",
   "name": "python",
   "nbconvert_exporter": "python",
   "pygments_lexer": "ipython3",
   "version": "3.8.6"
  },
  "orig_nbformat": 4
 },
 "nbformat": 4,
 "nbformat_minor": 2
}
