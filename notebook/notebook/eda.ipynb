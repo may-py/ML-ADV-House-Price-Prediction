{
 "cells": [
  {
   "cell_type": "code",
   "execution_count": 2,
   "metadata": {},
   "outputs": [],
   "source": [
    "import os\n",
    "import pandas as pd\n",
    "from src.logger import logging\n",
    "import pandas as pd\n",
    "from dataclasses import dataclass\n",
    "from sklearn.model_selection import train_test_split\n",
    "from src.components.data_transformaion import DataTransformation\n",
    "\n",
    "import os\n",
    "import sys\n",
    "from src.logger import logging\n",
    "import pandas as pd\n",
    "import numpy as np\n",
    "from dataclasses import dataclass\n",
    "\n",
    "from sklearn.pipeline import Pipeline\n",
    "from sklearn.compose import ColumnTransformer\n",
    "from sklearn.preprocessing import StandardScaler, OneHotEncoder\n",
    "from sklearn.impute import SimpleImputer"
   ]
  },
  {
   "cell_type": "code",
   "execution_count": 3,
   "metadata": {},
   "outputs": [],
   "source": [
    "df = pd.read_csv('../data/train.csv')"
   ]
  },
  {
   "cell_type": "code",
   "execution_count": 4,
   "metadata": {},
   "outputs": [],
   "source": [
    "train_set, test_set = train_test_split(df,test_size=0.2,random_state=42)"
   ]
  },
  {
   "cell_type": "code",
   "execution_count": 5,
   "metadata": {},
   "outputs": [],
   "source": [
    "num_columns = ['Id', 'MSSubClass', 'LotFrontage', 'LotArea', 'OverallQual',\n",
    "'OverallCond', 'YearBuilt', 'YearRemodAdd', 'MasVnrArea', 'BsmtFinSF1',\n",
    "'BsmtFinSF2', 'BsmtUnfSF', 'TotalBsmtSF', '1stFlrSF', '2ndFlrSF',\n",
    "'LowQualFinSF', 'GrLivArea', 'BsmtFullBath', 'BsmtHalfBath', 'FullBath',\n",
    "'HalfBath', 'BedroomAbvGr', 'KitchenAbvGr', 'TotRmsAbvGrd',\n",
    "'Fireplaces', 'GarageYrBlt', 'GarageCars', 'GarageArea', 'WoodDeckSF',\n",
    "'OpenPorchSF', 'EnclosedPorch', '3SsnPorch', 'ScreenPorch', 'PoolArea',\n",
    "'MiscVal', 'MoSold', 'YrSold']\n",
    "cat_columns = ['MSZoning', 'Street', 'Alley', 'LotShape', 'LandContour', 'Utilities',\n",
    "'LotConfig', 'LandSlope', 'Neighborhood', 'Condition1', 'Condition2',\n",
    "'BldgType', 'HouseStyle', 'RoofStyle', 'RoofMatl', 'Exterior1st',\n",
    "'Exterior2nd', 'MasVnrType', 'ExterQual', 'ExterCond', 'Foundation',\n",
    "'BsmtQual', 'BsmtCond', 'BsmtExposure', 'BsmtFinType1', 'BsmtFinType2',\n",
    "'Heating', 'HeatingQC', 'CentralAir', 'Electrical', 'KitchenQual',\n",
    "'Functional', 'FireplaceQu', 'GarageType', 'GarageFinish', 'GarageQual',\n",
    "'GarageCond', 'PavedDrive', 'PoolQC', 'Fence', 'MiscFeature',\n",
    "'SaleType', 'SaleCondition']\n",
    "\n",
    "num_pipeline = Pipeline(\n",
    "    steps=[\n",
    "        (\"imputer\",SimpleImputer(strategy=\"median\")),\n",
    "        ('scaler', StandardScaler(with_mean=False)),\n",
    "    ]\n",
    ")\n",
    "cat_pipeline = Pipeline(\n",
    "    steps=[\n",
    "        (\"imputer\", SimpleImputer(strategy=\"most_frequent\")),\n",
    "        (\"onehot\", OneHotEncoder(handle_unknown=\"ignore\")),\n",
    "        ('scaler', StandardScaler(with_mean=False)),\n",
    "    ]\n",
    ")\n",
    "\n",
    "preprocessor = ColumnTransformer(\n",
    "    [\n",
    "        (\"num_pipepine\", num_pipeline, num_columns),\n",
    "        (\"cat_pipeline\", cat_pipeline, cat_columns),\n",
    "])\n"
   ]
  },
  {
   "cell_type": "code",
   "execution_count": 6,
   "metadata": {},
   "outputs": [
    {
     "name": "stdout",
     "output_type": "stream",
     "text": [
      "(1168, 286) (1168,) - (292, 286) (292,)\n"
     ]
    }
   ],
   "source": [
    "target_column = 'SalePrice'\n",
    "\n",
    "input_feature_train_df=train_set.drop(columns=[target_column],axis=1)\n",
    "target_feature_train_df=train_set[target_column]\n",
    "\n",
    "input_feature_test_df=test_set.drop(columns=[target_column],axis=1)\n",
    "target_feature_test_df=test_set[target_column]\n",
    "\n",
    "logging.info(\n",
    "    f\"Applying preprocessing object on training dataframe and testing dataframe.\"\n",
    ")\n",
    "\n",
    "input_feature_train_arr=preprocessor.fit_transform(input_feature_train_df)\n",
    "input_feature_test_arr=preprocessor.transform(input_feature_test_df)\n",
    "\n",
    "\n",
    "\n",
    "print(input_feature_train_arr.shape, np.array(target_feature_train_df).shape ,\"-\", input_feature_test_arr.shape, np.array(target_feature_test_df).shape)\n"
   ]
  },
  {
   "cell_type": "code",
   "execution_count": 7,
   "metadata": {},
   "outputs": [
    {
     "name": "stdout",
     "output_type": "stream",
     "text": [
      "<class 'scipy.sparse._csr.csr_matrix'> (1168, 286) <class 'numpy.ndarray'> (1168,)\n"
     ]
    }
   ],
   "source": [
    "# train_arr = np.c_[\n",
    "#                 input_feature_train_arr, np.array(target_feature_train_df).astype(float)\n",
    "#             ]\n",
    "# input_feature_train_arr\n",
    "a = input_feature_train_arr\n",
    "b = np.array(target_feature_train_df)\n",
    "print(type(a),a.shape,type(b),b.shape)\n",
    "# np.concatenate((a,np.concatenate(b)[:,None]),axis=1)\n",
    "# np.concatenate((a,b[:,None]),axis=1)\n",
    "# np.column_stack((a,b))\n",
    "# a"
   ]
  },
  {
   "cell_type": "code",
   "execution_count": 8,
   "metadata": {},
   "outputs": [
    {
     "ename": "ValueError",
     "evalue": "all the input array dimensions except for the concatenation axis must match exactly, but along dimension 0, the array at index 0 has size 1 and the array at index 1 has size 292",
     "output_type": "error",
     "traceback": [
      "\u001b[1;31m---------------------------------------------------------------------------\u001b[0m",
      "\u001b[1;31mValueError\u001b[0m                                Traceback (most recent call last)",
      "\u001b[1;32md:\\Programming\\ML-ADV-House-Price-Prediction\\notebook\\notebook\\eda.ipynb Cell 7\u001b[0m line \u001b[0;36m1\n\u001b[1;32m----> <a href='vscode-notebook-cell:/d%3A/Programming/ML-ADV-House-Price-Prediction/notebook/notebook/eda.ipynb#W6sZmlsZQ%3D%3D?line=0'>1</a>\u001b[0m test_arr \u001b[39m=\u001b[39m np\u001b[39m.\u001b[39;49mc_[input_feature_test_arr, np\u001b[39m.\u001b[39;49marray(target_feature_test_df)]\n",
      "File \u001b[1;32md:\\Programming\\ML-ADV-House-Price-Prediction\\env\\lib\\site-packages\\numpy\\lib\\index_tricks.py:419\u001b[0m, in \u001b[0;36mAxisConcatenator.__getitem__\u001b[1;34m(self, key)\u001b[0m\n\u001b[0;32m    416\u001b[0m     \u001b[39mfor\u001b[39;00m k \u001b[39min\u001b[39;00m scalars:\n\u001b[0;32m    417\u001b[0m         objs[k] \u001b[39m=\u001b[39m objs[k]\u001b[39m.\u001b[39mastype(final_dtype)\n\u001b[1;32m--> 419\u001b[0m res \u001b[39m=\u001b[39m \u001b[39mself\u001b[39;49m\u001b[39m.\u001b[39;49mconcatenate(\u001b[39mtuple\u001b[39;49m(objs), axis\u001b[39m=\u001b[39;49maxis)\n\u001b[0;32m    421\u001b[0m \u001b[39mif\u001b[39;00m matrix:\n\u001b[0;32m    422\u001b[0m     oldndim \u001b[39m=\u001b[39m res\u001b[39m.\u001b[39mndim\n",
      "File \u001b[1;32m<__array_function__ internals>:200\u001b[0m, in \u001b[0;36mconcatenate\u001b[1;34m(*args, **kwargs)\u001b[0m\n",
      "\u001b[1;31mValueError\u001b[0m: all the input array dimensions except for the concatenation axis must match exactly, but along dimension 0, the array at index 0 has size 1 and the array at index 1 has size 292"
     ]
    }
   ],
   "source": [
    "test_arr = np.c_[input_feature_test_arr, np.array(target_feature_test_df)]"
   ]
  },
  {
   "cell_type": "code",
   "execution_count": null,
   "metadata": {},
   "outputs": [],
   "source": []
  }
 ],
 "metadata": {
  "kernelspec": {
   "display_name": "env",
   "language": "python",
   "name": "python3"
  },
  "language_info": {
   "codemirror_mode": {
    "name": "ipython",
    "version": 3
   },
   "file_extension": ".py",
   "mimetype": "text/x-python",
   "name": "python",
   "nbconvert_exporter": "python",
   "pygments_lexer": "ipython3",
   "version": "3.8.6"
  },
  "orig_nbformat": 4
 },
 "nbformat": 4,
 "nbformat_minor": 2
}
